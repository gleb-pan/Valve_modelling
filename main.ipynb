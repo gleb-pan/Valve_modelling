{
 "cells": [
  {
   "cell_type": "markdown",
   "id": "f061b973-5481-4ad0-abf8-5dd966b7a404",
   "metadata": {},
   "source": [
    "# GET VALVE"
   ]
  },
  {
   "cell_type": "code",
   "execution_count": 1,
   "id": "4845347e-c908-4064-bcfb-9065696c2a5d",
   "metadata": {},
   "outputs": [
    {
     "name": "stdout",
     "output_type": "stream",
     "text": [
      "Overwriting auto display for cadquery Workplane and Shape\n",
      "\n",
      "Enabling jupyter_cadquery replay\n"
     ]
    }
   ],
   "source": [
    "from math import sin, cos, radians, pi\n",
    "import cadquery as cq\n",
    "from cadquery import Workplane\n",
    "from cadquery import exporters\n",
    "from collections import namedtuple\n",
    "from jupyter_cadquery.viewer.client import show, show_object\n",
    "from jupyter_cadquery import (\n",
    "    PartGroup, Part, Edges, Faces, Vertices, show,\n",
    "    close_viewer, close_viewers, get_viewer, open_viewer, set_defaults, get_defaults\n",
    ")\n",
    "\n",
    "from jupyter_cadquery.replay import replay, enable_replay, disable_replay, reset_replay\n",
    "\n",
    "set_defaults(axes=True, timeit=False)\n",
    "cv = open_viewer(\"Examples\", cad_width=640, height=480, glass=True)\n",
    "enable_replay(False, False)\n",
    "show_object = replay"
   ]
  },
  {
   "cell_type": "markdown",
   "id": "faadc52f-269c-4241-a821-da67106b7ff7",
   "metadata": {},
   "source": [
    "# PARTS"
   ]
  },
  {
   "cell_type": "code",
   "execution_count": 5,
   "id": "e793ab30-5e39-4822-a64f-3853fe1678f5",
   "metadata": {},
   "outputs": [],
   "source": [
    "def flanges(*,flange_c, pipe_c, gap_left, gap_right, shield_c,thck = 5, left_side=False,  bolts_num = 8, bolts_d=5):\n",
    "    '''\n",
    "    GENERATES TWO FLANGES WITH PIPE AND SHIELD\n",
    "    WORKS BOTH FOR LEFT AND RIGHT SIDE\n",
    "    '''\n",
    "    # try:\n",
    "    #GET DIAMETER\n",
    "    flange_d = flange_c/pi\n",
    "    pipe_d = pipe_c/pi\n",
    "    shield_d = shield_c/pi\n",
    "\n",
    "    #ERROR CATCHING\n",
    "    if pipe_d >= flange_d:\n",
    "        raise ValueError('\"pipe_c\" cannot be greater than or equal to \"flange_c\"')\n",
    "    elif (flange_d - pipe_d) <= bolts_d:\n",
    "        raise ValueError('Holes do not fit this flange. Make holes smaller (\"bolts_d\") or increase \"flange_d\"')\n",
    "\n",
    "    #BASE CYLINDER\n",
    "    base = Workplane(\"XZ\").cylinder(thck,flange_d)\n",
    "\n",
    "    #CENTER HOLE\n",
    "    front_face = Workplane(\"XZ\").workplane(offset=thck).moveTo(0,0)\n",
    "    sketch = front_face.circle(pipe_d).extrude(-thck*2)\n",
    "    result = base.cut(sketch)\n",
    "\n",
    "    #SMALL HOLES\n",
    "    ofst = pipe_d + ((flange_d-pipe_d)/2)\n",
    "    for i in range(bolts_num):\n",
    "        angle = i * (360/bolts_num)\n",
    "        x = ofst * cos(radians(angle)) # MATH MODULE\n",
    "        y = ofst * sin(radians(angle))\n",
    "        front_face = Workplane(\"XZ\").workplane(offset=thck).moveTo(x,y)\n",
    "        sketch = front_face.circle(bolts_d).extrude(-thck*2)\n",
    "        result = result.cut(sketch)\n",
    "\n",
    "    #MIRRORING THE FLANGES\n",
    "    result = result.translate(result.val().BoundingBox().center.multiply(-1))\n",
    "    mirXZ_neg = result.mirror(mirrorPlane=\"XZ\", basePointVector=(0, (thck/2)+0.1, 0))\n",
    "    result = result.union(mirXZ_neg,breakpoint)\n",
    "\n",
    "\n",
    "    #PIPE WITH THE SHIELD\n",
    "    face, coef, gap = \"<Y\", 1, gap_right\n",
    "    if left_side:\n",
    "        face, coef, gap = \">Y\", -1, gap_left\n",
    "\n",
    "    result = (result\n",
    "                  .faces(face)\n",
    "                  .circle(pipe_d)\n",
    "                  .extrude(gap/coef)\n",
    "                  .faces(face)\n",
    "                  .circle(shield_d)\n",
    "                  .extrude(700/coef)\n",
    "                 )\n",
    "    return result\n",
    "    # except Exception as e:\n",
    "    #     print(f\"Flange function: {e}\")\n",
    "        \n",
    "    #result.val().exportStep('res.stp')\n",
    "    #show_object(result)\n",
    "    "
   ]
  },
  {
   "cell_type": "code",
   "execution_count": 6,
   "id": "1ad6bdf3-b0fe-446f-b908-660163f98d3d",
   "metadata": {},
   "outputs": [],
   "source": [
    "def body(*,valve_l=1100,flange_c=2820,pipe_c=1950,valve_c=800,thck=20, act_h=50, actuator_gap = 200):\n",
    "    #Get diameter\n",
    "    flange_d = flange_c/pi\n",
    "    pipe_d = pipe_c/pi\n",
    "    valve_d=valve_c/pi\n",
    "    print(valve_d)\n",
    "    \n",
    "    if valve_d >= valve_l:\n",
    "        raise ValueError('\"valve_c\" cannot be greater than or equal to \"valve_l\"') \n",
    "    \n",
    "    #Get length of body excluding the flange thickness\n",
    "    total = valve_l - (thck*4) # flange is always 50mm\n",
    "    \n",
    "    side = (total-valve_d)/2\n",
    "\n",
    "    #creating the body of valve\n",
    "    bdy = (cq.Workplane(\"XZ\")\n",
    "          .move(0,0)\n",
    "          .circle(pipe_d)\n",
    "          .workplane(offset=-side)\n",
    "          .circle(flange_d)\n",
    "          .loft(combine=True)\n",
    "          .faces(\">Y\")\n",
    "          .circle(flange_d)\n",
    "          .extrude(-valve_d)\n",
    "          .faces(\">Y\")\n",
    "          .circle(flange_d)\n",
    "          .workplane(offset=side)\n",
    "          .circle(pipe_d)\n",
    "          .loft(combine=True)\n",
    "          )\n",
    "    \n",
    "    #adding the actuator to the top of body\n",
    "    actuator = (cq.Workplane(\"XY\")\n",
    "                .move(0,(total/2))\n",
    "                .circle(valve_d/2)\n",
    "                .extrude(flange_d+(flange_d/2))\n",
    "               )\n",
    "    \n",
    "    bdy = bdy.union(actuator)\n",
    "    \n",
    "    \n",
    "    return bdy"
   ]
  },
  {
   "cell_type": "markdown",
   "id": "0688010f-d35b-46dd-b74c-7801955f78da",
   "metadata": {},
   "source": [
    "Assembly"
   ]
  },
  {
   "cell_type": "code",
   "execution_count": 15,
   "id": "1391c2bc-fc92-4654-8541-95a07c8eb36b",
   "metadata": {
    "tags": []
   },
   "outputs": [],
   "source": [
    "def build(right_flange, left_flange, bdy, path_step='valve.step'):\n",
    "    valve = (cq.Assembly()\n",
    "             .add(right_flange\n",
    "                  ,loc=cq.Location((0, 0, 0), (0, 1, 0), 0)\n",
    "                  , name=\"right\"\n",
    "                  , color=cq.Color(\"lightgray\")\n",
    "                  )\n",
    "             .add(left_flange\n",
    "                  , name=\"left\"\n",
    "                  , color=cq.Color(\"lightgray\")\n",
    "                  )\n",
    "             .add(bdy\n",
    "                  , name=\"body\"\n",
    "                  , color=cq.Color(\"lightgray\")\n",
    "                  )\n",
    "             )\n",
    "\n",
    "    (valve\n",
    "     .constrain(\"right@faces@>Y\", \"body@faces@<Y\", \"Plane\")\n",
    "     .constrain(\"body@faces@>Y\", \"left@faces@<Y\", \"Plane\")\n",
    "     )\n",
    "    \n",
    "    \n",
    "    valve.solve()\n",
    "    \n",
    "    show(valve)\n",
    "\n",
    "    # user = input(\"Generated without errors. Save this valve as STEP?(y\\\\n) \")\n",
    "    # if user == 'y':\n",
    "    #     valve.save(path)\n",
    "    #     print(f\"Saved to directory: {path}\")\n",
    "    # print('\\nProgram finished')"
   ]
  },
  {
   "cell_type": "markdown",
   "id": "98df1c08-a0aa-40b9-bd9f-29edf736927f",
   "metadata": {},
   "source": [
    "# CALCULATE"
   ]
  },
  {
   "cell_type": "code",
   "execution_count": 21,
   "id": "2a44e8b9-f374-45ac-bcde-f8c94d780221",
   "metadata": {},
   "outputs": [],
   "source": [
    "def get_jacket_dxf(*, valve_l=1100, flange_c=2820, valve_c=800, shield_c=2750\n",
    "                   , gap_left=350, gap_right=310, thck=30, path_sketch='sheet.dxf'\n",
    "                   , X_offset=50, Y_ofst = 400, hole_offset=200):\n",
    "\n",
    "    valve_d = round(valve_c / pi,3)\n",
    "    center = valve_l - (2 * thck) # THE LENGTH OF THE CENTER SIDE (BODY OF VALVE)\n",
    "    \n",
    "    # OFFSETS\n",
    "    valve_d += hole_offset # Increasing the hole\n",
    "    \n",
    "    gap_left += X_offset # (X axis) increasing the left gap\n",
    "    gap_right += X_offset # (X axis) increasing the right gap\n",
    "    \n",
    "    flange_c += Y_ofst # (Y axis) increasing circumference depending on a thickness of jacket (MIDDLE SIDE)\n",
    "    shield_c += Y_ofst # (Y axis) increasing circumference depending on a thickness of jacket (TOP SIDES)\n",
    "    \n",
    "    # FOR FINDING THE HOLE COORDINATES\n",
    "    center_hole = (center - valve_d) / 2\n",
    "\n",
    "    # VARIABLES FOR ARCS\n",
    "    # Firts point of the ThreePointArc is defined by the last drawn line\n",
    "    arc1_p2 = (valve_d/2, -(center_hole+(valve_d/2)))\n",
    "    arc1_p3 = (0, -(center_hole+valve_d))\n",
    "    arc2_p2 = ((flange_c-(valve_d/2)), -(center/2))\n",
    "    arc2_p3 = (flange_c, -center_hole)\n",
    "\n",
    "    # CREATING SKETCH\n",
    "    jack = (cq.Workplane(\"XY\")\n",
    "            .moveTo(0.0) # STARTING POINT\n",
    "            .lineTo(flange_c, 0.0)  # SECTION 1\n",
    "            .lineTo(shield_c + (flange_c - shield_c) / 2, gap_left)  # SECTION 1\n",
    "            .lineTo((flange_c - shield_c) / 2, gap_left)  # SECTION 1\n",
    "            .lineTo(0.0, 0.0)  # SECTION 1\n",
    "            .lineTo(0, -center_hole)  # SECTION 2 (part 1)\n",
    "            .threePointArc(arc1_p2, arc1_p3) # SECTION 2 (part 1)\n",
    "            .lineTo(0, -center)  # SECTION 2 (part 1)\n",
    "            .lineTo(flange_c, -center)  # SECTION 3\n",
    "            .moveTo(0, -center)  # MOVING THE WORKING POSITION\n",
    "            .lineTo((flange_c - shield_c) / 2, -(center + gap_right))  # SECTION 3\n",
    "            .lineTo(shield_c + (flange_c - shield_c) / 2, -(center + gap_right))  # SECTION 3\n",
    "            .lineTo(flange_c, -center)  # SECTION 3\n",
    "            .lineTo(flange_c, -(center_hole+valve_d)) # SECTION 2 (part 2)\n",
    "            .threePointArc(arc2_p2, arc2_p3) # SECTION 2 (part 2)\n",
    "            .lineTo(flange_c, 0) # SECTION 2 (part 2)\n",
    "            .close()\n",
    "            )\n",
    "    \n",
    "    show_object(jack)\n",
    "\n",
    "    cq.exporters.exportDXF(jack, path_sketch)"
   ]
  },
  {
   "cell_type": "code",
   "execution_count": 17,
   "id": "33cb4381-4b01-4861-a9ee-4268ea886526",
   "metadata": {},
   "outputs": [],
   "source": [
    "'''\n",
    " flange_c - circumference of the flange\n",
    " pipe_c - circumference of the pipe\n",
    " shield_c - circumference of the shield\n",
    " valve_l - total length of the valve\n",
    " valve_c - circumference of the valve(top side)\n",
    " gap_left - gap btw flange and shield(left)\n",
    " gap_right - gap btw flange and shield(right)\n",
    " actuator_gap - distance btw actuator and flange\n",
    " actuator_type - electric, manual or other\n",
    " actuator_l - length of the actuator (actuator_type: other)\n",
    "'''\n",
    "\n",
    "def get_valve_stp(*, flange_c, pipe_c, shield_c, valve_l, valve_c, gap_left, gap_right, actuator_gap, thck, bolts_num=8,\n",
    "                  bolts_d=5, actuator_type='electric', path_step='valve.step'):\n",
    "    r_flange = flanges(flange_c=flange_c\n",
    "                       , pipe_c=pipe_c\n",
    "                       , gap_left=gap_left\n",
    "                       , gap_right=gap_right\n",
    "                       , shield_c=shield_c\n",
    "                       , left_side=False\n",
    "                       , thck=thck\n",
    "                       , bolts_num=bolts_num\n",
    "                       , bolts_d=bolts_d\n",
    "                       )\n",
    "\n",
    "    l_flange = flanges(flange_c=flange_c\n",
    "                       , pipe_c=pipe_c\n",
    "                       , gap_left=gap_left\n",
    "                       , gap_right=gap_right\n",
    "                       , shield_c=shield_c\n",
    "                       , left_side=True\n",
    "                       , thck=thck\n",
    "                       , bolts_num=bolts_num\n",
    "                       , bolts_d=bolts_d\n",
    "                       )\n",
    "\n",
    "    bdy = body(valve_l=valve_l\n",
    "               , flange_c=flange_c\n",
    "               , pipe_c=pipe_c\n",
    "               , valve_c=valve_c\n",
    "               , thck=thck\n",
    "               )\n",
    "\n",
    "    build(r_flange, l_flange, bdy, path_step)"
   ]
  },
  {
   "cell_type": "markdown",
   "id": "0e5e3e3e-75d8-493e-9ea7-d91eacfbeb79",
   "metadata": {
    "tags": []
   },
   "source": [
    "# MAIN"
   ]
  },
  {
   "cell_type": "code",
   "execution_count": 25,
   "id": "933cfe60-cd98-4f24-bfb3-b1a8ec483591",
   "metadata": {},
   "outputs": [
    {
     "name": "stdout",
     "output_type": "stream",
     "text": [
      "159.15494309189535\n",
      "100% ⋮————————————————————————————————————————————————————————————⋮ (3/3)  0.31s\n",
      "Use the multi select box below to select one or more steps you want to examine\n"
     ]
    },
    {
     "data": {
      "application/vnd.jupyter.widget-view+json": {
       "model_id": "650a299f5aec4c3b96bdddd74ce09fee",
       "version_major": 2,
       "version_minor": 0
      },
      "text/plain": [
       "HBox(children=(SelectMultiple(_dom_classes=('monospace',), index=(16,), layout=Layout(width='600px'), options=…"
      ]
     },
     "metadata": {},
     "output_type": "display_data"
    }
   ],
   "source": [
    "#MAIN\n",
    "if __name__=='__main__':\n",
    "    # VARIABLES FOR BOTH 3D MODEL AND JACKET\n",
    "    flange_c = 500  # circumference of the flange (REQUIRED)\n",
    "    valve_l = 280  # length of the valve (REQUIRED)\n",
    "    shield_c = 460  # circumference of the shield (REQUIRED)\n",
    "    pipe_c = 240  # circumference of the pipe (REQUIRED)\n",
    "    valve_c = 500  # circumference of the valve (top side) (REQUIRED)\n",
    "    gap_left = 80  # gap btw flange and shield (left) (REQUIRED)\n",
    "    gap_right = 50  # gap btw flange and shield (right) (REQUIRED)\n",
    "    thck = 20  # thickness of the flange (REQUIRED)\n",
    "    actuator_gap = 200  # gap from the edge of actuator and outter flange (OPTIONAL)\n",
    "    path_step='H:\\\\Desktop\\\\valve2.step'  # (3D model) path where the file will be saved. Default: 'valve.step'\n",
    "    # bolts_num= # amount of holes in a flange, by default 8 (OPTIONAL)\n",
    "    bolts_d = 10 # hole diameter, by default 5 (OPTIONAL)\n",
    "    \n",
    "    # VARIABLES FOR 2D SKETCH ONLY\n",
    "    X_offset = 100\n",
    "    Y_ofst = 100\n",
    "    hole_offset = 20\n",
    "    path_sketch = 'H:\\\\Desktop\\\\sheet.dxf'\n",
    "    \n",
    "    # GETTING A 3D MODEL OF VALVE (output is .step file)\n",
    "    get_valve_stp(flange_c=flange_c\n",
    "                  , valve_l=valve_l\n",
    "                  , shield_c=shield_c\n",
    "                  , pipe_c=pipe_c\n",
    "                  , valve_c=valve_c\n",
    "                  , gap_left=gap_left\n",
    "                  , gap_right=gap_right\n",
    "                  , thck=thck\n",
    "                  , actuator_gap=actuator_gap\n",
    "                  # , bolts_num=bolts_num\n",
    "                  , bolts_d=bolts_d\n",
    "                  , path_step=path_step\n",
    "                  )\n",
    "    \n",
    "    # GETTING A 2D SKETCH OF THE JACKET FOR A VALVE (output is .dxf file)\n",
    "    get_jacket_dxf(flange_c=flange_c\n",
    "                   , valve_l=valve_l\n",
    "                   , shield_c=shield_c\n",
    "                   , valve_c=valve_c\n",
    "                   , gap_left=gap_left\n",
    "                   , gap_right=gap_right\n",
    "                   , thck=thck\n",
    "                   , X_offset=X_offset\n",
    "                   , Y_ofst=Y_ofst\n",
    "                   , hole_offset=hole_offset\n",
    "                   , path_sketch=path_sketch\n",
    "                  )"
   ]
  },
  {
   "cell_type": "markdown",
   "id": "43c8f441-c827-4174-9911-2c83ee31b9c4",
   "metadata": {
    "tags": []
   },
   "source": [
    "# TESTING/TEMPLATES"
   ]
  },
  {
   "cell_type": "code",
   "execution_count": 6,
   "id": "276fbb40-d2a3-49c5-8154-c7b93a2886c2",
   "metadata": {},
   "outputs": [
    {
     "name": "stdout",
     "output_type": "stream",
     "text": [
      "Use the multi select box below to select one or more steps you want to examine\n"
     ]
    },
    {
     "data": {
      "application/vnd.jupyter.widget-view+json": {
       "model_id": "ddac5ae7f7d84142828b28defb2718fd",
       "version_major": 2,
       "version_minor": 0
      },
      "text/plain": [
       "HBox(children=(SelectMultiple(_dom_classes=('monospace',), index=(5,), layout=Layout(width='600px'), options=(…"
      ]
     },
     "metadata": {},
     "output_type": "display_data"
    },
    {
     "data": {
      "text/plain": [
       "<jupyter_cadquery.replay.Replay at 0x2310a3404c0>"
      ]
     },
     "execution_count": 6,
     "metadata": {},
     "output_type": "execute_result"
    }
   ],
   "source": [
    "result = (cq.Workplane(\"front\").box(4.0, 4.0, 0.25).faces(\">Z\").circle(1.5)\n",
    "          .workplane(offset=3.0).rect(0.75, 0.5).loft(combine=True))\n",
    "\n",
    "\n",
    "\n",
    "show_object(result)"
   ]
  },
  {
   "cell_type": "code",
   "execution_count": null,
   "id": "99dfaca0-6f9c-421e-8166-eb4cfb5707b8",
   "metadata": {},
   "outputs": [],
   "source": [
    "#CHOOSING A FACE\n",
    "\n",
    "# res = (cq\n",
    "#        .Workplane(\"XY\") # choose the starting face where\n",
    "#        .circle(30)\n",
    "#        .extrude(20)\n",
    "#        .faces(\">Z\") # THE TOP FACE OF THE OBJECT\n",
    "#        .circle(20)\n",
    "#        .extrude(20)\n",
    "#        .faces(\"<Z\") # THE BOTTOM FACE\n",
    "#        .rect(20,20)\n",
    "#        .extrude(-20)\n",
    "#        .faces(\"<Z\")\n",
    "#        .circle(20)\n",
    "#        .extrude(-20)\n",
    "#       )\n",
    "\n",
    "#LOFT\n",
    "# res = (cq\n",
    "#        .Workplane(\"front\")\n",
    "#        .circle(20)\n",
    "#        .workplane(offset=10)\n",
    "#        .rect(20,20)\n",
    "#        .loft(combine=True)\n",
    "#       )\n",
    "show_object(res)"
   ]
  },
  {
   "cell_type": "code",
   "execution_count": null,
   "id": "099b3c4f-2ba6-45a8-9a69-adf9e4b3c752",
   "metadata": {},
   "outputs": [],
   "source": [
    "result0 = (cq.Workplane(\"XY\")\n",
    "           .moveTo(10, 0)\n",
    "           .lineTo(5, 0)\n",
    "           .threePointArc((3.9393, 0.4393), (3.5, 1.5))\n",
    "           .threePointArc((3.0607, 2.5607), (2, 3))\n",
    "           .lineTo(1.5, 3)\n",
    "           .threePointArc((0.4393, 3.4393), (0, 4.5))\n",
    "           .lineTo(0, 13.5)\n",
    "           .threePointArc((0.4393, 14.5607), (1.5, 15))\n",
    "           .lineTo(28, 15)\n",
    "           .lineTo(28, 13.5)\n",
    "           .lineTo(24, 13.5)\n",
    "           .lineTo(24, 11.5)\n",
    "           .lineTo(27, 11.5)\n",
    "           .lineTo(27, 10)\n",
    "           .lineTo(22, 10)\n",
    "           .lineTo(22, 13.2)\n",
    "           .lineTo(14.5, 13.2)\n",
    "           .lineTo(14.5, 10)\n",
    "           .lineTo(12.5, 10)\n",
    "           .lineTo(12.5, 13.2)\n",
    "           .lineTo(5.5, 13.2)\n",
    "           .lineTo(5.5, 2)\n",
    "           .threePointArc((5.793, 1.293), (6.5, 1))\n",
    "           .lineTo(10, 1)\n",
    "           .close())\n",
    "result = result0.extrude(100)\n",
    "\n",
    "result = result.rotate((0, 0, 0), (1, 0, 0), 90)\n",
    "\n",
    "result = result.translate(result.val().BoundingBox().center.multiply(-1))\n",
    "\n",
    "mirXY_neg = result.mirror(mirrorPlane=\"XY\", basePointVector=(0, 0, -30))\n",
    "mirXY_pos = result.mirror(mirrorPlane=\"XY\", basePointVector=(0, 0, 30))\n",
    "mirZY_neg = result.mirror(mirrorPlane=\"ZY\", basePointVector=(-30, 0, 0))\n",
    "mirZY_pos = result.mirror(mirrorPlane=\"ZY\", basePointVector=(30, 0, 0))\n",
    "\n",
    "result = result.union(mirXY_neg).union(mirXY_pos).union(mirZY_neg).union(mirZY_pos)\n",
    "\n",
    "show_object(result)"
   ]
  },
  {
   "cell_type": "code",
   "execution_count": null,
   "id": "62c0c9ba-529a-44a0-88c3-8d7b15bab509",
   "metadata": {},
   "outputs": [],
   "source": [
    "#MIRROR EXAMPLE\n",
    "\n",
    "result = flanges(flange_c=2820,pipe_c=1950,gap_left=350, gap_right=310, shield_c=2750)\n",
    "    \n",
    "result = result.translate(result.val().BoundingBox().center.multiply(-1))\n",
    "\n",
    "mirXY_neg = result.mirror(mirrorPlane=\"XZ\", basePointVector=(0, 1100, 0))\n",
    "\n",
    "result = result.union(mirXY_neg)\n",
    "\n",
    "show_object(result)"
   ]
  },
  {
   "cell_type": "code",
   "execution_count": null,
   "id": "66b83c2d-b86a-43a3-b5df-79cd1caeaeb8",
   "metadata": {},
   "outputs": [],
   "source": [
    "!pip list"
   ]
  },
  {
   "cell_type": "code",
   "execution_count": 5,
   "id": "d1370a1d-edfc-46d1-8c59-b4fae8c044a3",
   "metadata": {},
   "outputs": [
    {
     "ename": "AttributeError",
     "evalue": "'Workplane' object has no attribute 'color'",
     "output_type": "error",
     "traceback": [
      "\u001B[1;31m---------------------------------------------------------------------------\u001B[0m",
      "\u001B[1;31mAttributeError\u001B[0m                            Traceback (most recent call last)",
      "Cell \u001B[1;32mIn[5], line 1\u001B[0m\n\u001B[1;32m----> 1\u001B[0m c \u001B[38;5;241m=\u001B[39m \u001B[43mcq\u001B[49m\u001B[38;5;241;43m.\u001B[39;49m\u001B[43mWorkplane\u001B[49m\u001B[43m(\u001B[49m\u001B[38;5;124;43m\"\u001B[39;49m\u001B[38;5;124;43mXY\u001B[39;49m\u001B[38;5;124;43m\"\u001B[39;49m\u001B[43m)\u001B[49m\u001B[38;5;241;43m.\u001B[39;49m\u001B[43mbox\u001B[49m\u001B[43m(\u001B[49m\u001B[38;5;241;43m1\u001B[39;49m\u001B[43m,\u001B[49m\u001B[43m \u001B[49m\u001B[38;5;241;43m1\u001B[39;49m\u001B[43m,\u001B[49m\u001B[43m \u001B[49m\u001B[38;5;241;43m1\u001B[39;49m\u001B[43m)\u001B[49m\u001B[38;5;241;43m.\u001B[39;49m\u001B[43mcolor\u001B[49m(\u001B[38;5;241m255\u001B[39m, \u001B[38;5;241m0\u001B[39m, \u001B[38;5;241m0\u001B[39m)\n",
      "\u001B[1;31mAttributeError\u001B[0m: 'Workplane' object has no attribute 'color'"
     ]
    }
   ],
   "source": [
    "c = cq.Workplane(\"XY\").box(1, 1, 1).color(255, 0, 0)"
   ]
  },
  {
   "cell_type": "code",
   "execution_count": 4,
   "id": "81753259-ef1f-404d-a440-3698ee9e6879",
   "metadata": {},
   "outputs": [
    {
     "name": "stdout",
     "output_type": "stream",
     "text": [
      "2.2.dev570+g60fdbea\n"
     ]
    }
   ],
   "source": [
    "print(cq.__version__)"
   ]
  },
  {
   "cell_type": "code",
   "execution_count": 9,
   "id": "eb589998-0f48-4de4-88b3-e92642e72682",
   "metadata": {},
   "outputs": [
    {
     "ename": "AttributeError",
     "evalue": "'Workplane' object has no attribute 'shapes'",
     "output_type": "error",
     "traceback": [
      "\u001B[1;31m---------------------------------------------------------------------------\u001B[0m",
      "\u001B[1;31mAttributeError\u001B[0m                            Traceback (most recent call last)",
      "Cell \u001B[1;32mIn[9], line 1\u001B[0m\n\u001B[1;32m----> 1\u001B[0m box \u001B[38;5;241m=\u001B[39m \u001B[43mcq\u001B[49m\u001B[38;5;241;43m.\u001B[39;49m\u001B[43mWorkplane\u001B[49m\u001B[43m(\u001B[49m\u001B[38;5;124;43m\"\u001B[39;49m\u001B[38;5;124;43mXY\u001B[39;49m\u001B[38;5;124;43m\"\u001B[39;49m\u001B[43m)\u001B[49m\u001B[38;5;241;43m.\u001B[39;49m\u001B[43mbox\u001B[49m\u001B[43m(\u001B[49m\u001B[38;5;241;43m1\u001B[39;49m\u001B[43m,\u001B[49m\u001B[43m \u001B[49m\u001B[38;5;241;43m1\u001B[39;49m\u001B[43m,\u001B[49m\u001B[43m \u001B[49m\u001B[38;5;241;43m1\u001B[39;49m\u001B[43m)\u001B[49m\u001B[38;5;241;43m.\u001B[39;49m\u001B[43mshapes\u001B[49m()[\u001B[38;5;241m0\u001B[39m]\n\u001B[0;32m      2\u001B[0m red_box \u001B[38;5;241m=\u001B[39m box\u001B[38;5;241m.\u001B[39mcolor(cadquery\u001B[38;5;241m.\u001B[39mColor\u001B[38;5;241m.\u001B[39mRED)\n",
      "\u001B[1;31mAttributeError\u001B[0m: 'Workplane' object has no attribute 'shapes'"
     ]
    }
   ],
   "source": [
    "box = cq.Workplane(\"XY\").box(1, 1, 1).shapes()[0]\n",
    "red_box = box.color(cadquery.Color.RED)"
   ]
  },
  {
   "cell_type": "code",
   "execution_count": 11,
   "id": "21645c3b-286a-48fe-9a6f-eba86a4f174f",
   "metadata": {},
   "outputs": [
    {
     "name": "stdout",
     "output_type": "stream",
     "text": [
      "Use the multi select box below to select one or more steps you want to examine\n"
     ]
    },
    {
     "data": {
      "application/vnd.jupyter.widget-view+json": {
       "model_id": "a3d48ed0af3e4277a2ffac0b522e48cc",
       "version_major": 2,
       "version_minor": 0
      },
      "text/plain": [
       "HBox(children=(SelectMultiple(_dom_classes=('monospace',), index=(3,), layout=Layout(width='600px'), options=(…"
      ]
     },
     "metadata": {},
     "output_type": "display_data"
    },
    {
     "data": {
      "text/plain": [
       "<jupyter_cadquery.replay.Replay at 0x1c567974c70>"
      ]
     },
     "execution_count": 11,
     "metadata": {},
     "output_type": "execute_result"
    }
   ],
   "source": [
    "# Create the individual parts\n",
    "box = cq.Workplane(\"XY\").box(1, 1, 1)\n",
    "cylinder = cq.Workplane(\"XY\").cylinder(1, 2)\n",
    "\n",
    "# Translate the cylinder to be on top of the box\n",
    "translated_cylinder = cylinder.translate((0, 0, 1))\n",
    "\n",
    "# Combine the box and cylinder into an assembly\n",
    "assembly = box.union(translated_cylinder)\n",
    "\n",
    "show_object(assembly)"
   ]
  },
  {
   "cell_type": "code",
   "execution_count": 34,
   "id": "b10bf1a0-ed3e-42d7-884e-ce8d4de4b542",
   "metadata": {},
   "outputs": [
    {
     "name": "stdout",
     "output_type": "stream",
     "text": [
      "100% ⋮————————————————————————————————————————————————————————————⋮ (2/2)  0.01s\n"
     ]
    }
   ],
   "source": [
    "\n",
    "# Define the parts to be assembled\n",
    "def part1():\n",
    "    return cq.Workplane(\"XY\").box(1, 1, 1)\n",
    "\n",
    "def part2():\n",
    "    return cq.Workplane(\"XY\").box(1, 2, 1)\n",
    "\n",
    "# Assemble the parts into an Assembly object\n",
    "assembly = cq.Assembly().add(part1(), name=\"part1\").add(part2(), name=\"part2\")\n",
    "\n",
    "# Constrain the parts relative to each other\n",
    "assembly.constrain(\"part1@faces@>Z\", \"part2@faces@<Z\", \"Axis\")\n",
    "\n",
    "# Solve the constraints to determine the positions of the parts\n",
    "assembly.solve()\n",
    "\n",
    "# Render the assembly\n",
    "assembly.save('assemb.step')"
   ]
  },
  {
   "cell_type": "code",
   "execution_count": 40,
   "id": "25702a5e-6411-4301-b22e-c5ed000f20a1",
   "metadata": {},
   "outputs": [],
   "source": [
    "b1 = cq.Workplane(\"XY\"\n",
    "\n",
    "b2 = \n",
    "\n",
    "b1 = b1.translate((0,-1.5,0))\n",
    "\n",
    "#mirXY_neg = result.mirror(mirrorPlane=\"XZ\", basePointVector=(0, 1100, 0))\n",
    "\n",
    "result = b1.union(b2)\n"
   ]
  },
  {
   "cell_type": "code",
   "execution_count": 41,
   "id": "fde449d7-64bd-4594-bc77-c74bf00f328f",
   "metadata": {},
   "outputs": [
    {
     "name": "stdout",
     "output_type": "stream",
     "text": [
      "Use the multi select box below to select one or more steps you want to examine\n"
     ]
    },
    {
     "data": {
      "application/vnd.jupyter.widget-view+json": {
       "model_id": "9d6badf7d5c64a80a3ae14d2ac75cb7f",
       "version_major": 2,
       "version_minor": 0
      },
      "text/plain": [
       "HBox(children=(SelectMultiple(_dom_classes=('monospace',), index=(3,), layout=Layout(width='600px'), options=(…"
      ]
     },
     "metadata": {},
     "output_type": "display_data"
    },
    {
     "data": {
      "text/plain": [
       "<jupyter_cadquery.replay.Replay at 0x1d08938c880>"
      ]
     },
     "execution_count": 41,
     "metadata": {},
     "output_type": "execute_result"
    }
   ],
   "source": [
    "show_object(result)"
   ]
  },
  {
   "cell_type": "code",
   "execution_count": 28,
   "id": "e01243d7-5403-4c11-b8f2-01a167ac6446",
   "metadata": {},
   "outputs": [
    {
     "name": "stdout",
     "output_type": "stream",
     "text": [
      "Use the multi select box below to select one or more steps you want to examine\n"
     ]
    },
    {
     "data": {
      "application/vnd.jupyter.widget-view+json": {
       "model_id": "85a43eccb7584d21a1217fe8fdca1aae",
       "version_major": 2,
       "version_minor": 0
      },
      "text/plain": [
       "HBox(children=(SelectMultiple(_dom_classes=('monospace',), index=(101,), layout=Layout(width='600px'), options…"
      ]
     },
     "metadata": {},
     "output_type": "display_data"
    },
    {
     "data": {
      "text/plain": [
       "<jupyter_cadquery.replay.Replay at 0x1f5b2087af0>"
      ]
     },
     "execution_count": 28,
     "metadata": {},
     "output_type": "execute_result"
    }
   ],
   "source": [
    "f = flanges(pipe_c=110,flange_c=370,shield_c=340,gap_left=30,gap_right=50)\n",
    "\n",
    "show_object(f)"
   ]
  },
  {
   "cell_type": "code",
   "execution_count": 53,
   "id": "6456c39f-8b1f-4973-9bf6-943d8d25fb3e",
   "metadata": {},
   "outputs": [
    {
     "name": "stdout",
     "output_type": "stream",
     "text": [
      "Use the multi select box below to select one or more steps you want to examine\n"
     ]
    },
    {
     "data": {
      "application/vnd.jupyter.widget-view+json": {
       "model_id": "80f6ad42124a4ea9bcffa1a20ae2633b",
       "version_major": 2,
       "version_minor": 0
      },
      "text/plain": [
       "HBox(children=(SelectMultiple(_dom_classes=('monospace',), index=(0,), layout=Layout(width='600px'), options=(…"
      ]
     },
     "metadata": {},
     "output_type": "display_data"
    },
    {
     "data": {
      "text/plain": [
       "<jupyter_cadquery.replay.Replay at 0x229c0c505e0>"
      ]
     },
     "execution_count": 53,
     "metadata": {},
     "output_type": "execute_result"
    }
   ],
   "source": [
    "result = (cq.Workplane(origin = (20,0,0))\n",
    "    .circle(2)\n",
    "    .revolve(180, (-20,0,0),(-20,-1,0))\n",
    "    .center(-20,0)\n",
    "    .workplane()\n",
    "    .rect(20,4)\n",
    "    .extrude(\"next\")\n",
    ")\n",
    "\n",
    "show_object(result)"
   ]
  },
  {
   "cell_type": "code",
   "execution_count": 9,
   "id": "722e6261-3adc-41c9-ac91-c093c416f0d8",
   "metadata": {},
   "outputs": [
    {
     "name": "stdout",
     "output_type": "stream",
     "text": [
      "24976\n"
     ]
    }
   ],
   "source": [
    "r1 = 79/2\n",
    "r2 = 80/2\n",
    "\n",
    "circles = pi*(r1**2) + pi*(r2**2)\n",
    "\n",
    "total_sa = ((pi*r1 + pi*r2)*(((r1-r2)**2)+(100**2))**0.5) + pi*((r1**2) + (r2**2)) - circles\n",
    "\n",
    "print(round(total_sa))"
   ]
  },
  {
   "cell_type": "code",
   "execution_count": 18,
   "id": "e697856a-55b5-4355-a693-27882c44c087",
   "metadata": {},
   "outputs": [
    {
     "name": "stdout",
     "output_type": "stream",
     "text": [
      "Use the multi select box below to select one or more steps you want to examine\n"
     ]
    },
    {
     "data": {
      "application/vnd.jupyter.widget-view+json": {
       "model_id": "2a7e425898e74476a0f63066ceabbb42",
       "version_major": 2,
       "version_minor": 0
      },
      "text/plain": [
       "HBox(children=(SelectMultiple(_dom_classes=('monospace',), index=(3,), layout=Layout(width='600px'), options=(…"
      ]
     },
     "metadata": {},
     "output_type": "display_data"
    },
    {
     "data": {
      "text/plain": [
       "<jupyter_cadquery.replay.Replay at 0x29439d906a0>"
      ]
     },
     "execution_count": 18,
     "metadata": {},
     "output_type": "execute_result"
    }
   ],
   "source": [
    "line = (cq.Workplane(\"XY\")\n",
    "        .center(0,0)\n",
    "        .lineTo(0,20)\n",
    "        .center(0,0)\n",
    "        .vLine(10)\n",
    "       )\n",
    "\n",
    "show_object(line)"
   ]
  },
  {
   "cell_type": "code",
   "execution_count": 18,
   "id": "a4f9d038-3db1-47e1-b367-8322e7370b5d",
   "metadata": {},
   "outputs": [
    {
     "name": "stdout",
     "output_type": "stream",
     "text": [
      "<cadquery.cq.Workplane object at 0x00000201492B3C10>\n",
      "Use the multi select box below to select one or more steps you want to examine\n"
     ]
    },
    {
     "data": {
      "application/vnd.jupyter.widget-view+json": {
       "model_id": "3117592134b8480baeb4c843048ed740",
       "version_major": 2,
       "version_minor": 0
      },
      "text/plain": [
       "HBox(children=(SelectMultiple(_dom_classes=('monospace',), index=(1,), layout=Layout(width='600px'), options=(…"
      ]
     },
     "metadata": {},
     "output_type": "display_data"
    },
    {
     "data": {
      "text/plain": [
       "<jupyter_cadquery.replay.Replay at 0x20147542860>"
      ]
     },
     "execution_count": 18,
     "metadata": {},
     "output_type": "execute_result"
    }
   ],
   "source": [
    "(L, H, W, t) = (100.0, 20.0, 20.0, 1.0)\n",
    "pts = [\n",
    "    (0, H/2.0),\n",
    "    (W/2.0, H/2.0),\n",
    "    (W/2.0, (H/2.0 - t)),\n",
    "    (t/2.0, (H/2.0 - t)),\n",
    "    (t/2.0, (t - H/2.0)),\n",
    "    (W/2.0, (t - H/2.0)),\n",
    "    # (W/2.0, H/-2.0),\n",
    "    # (0, H/-2.0)\n",
    "]\n",
    "\n",
    "result = cq.Workplane(\"XY\").polyline(pts).edges()\n",
    "\n",
    "print(result)\n",
    "\n",
    "show_object(result)"
   ]
  },
  {
   "cell_type": "code",
   "execution_count": 92,
   "id": "80879e94-561e-435e-a9e8-39d75819fec4",
   "metadata": {},
   "outputs": [
    {
     "name": "stdout",
     "output_type": "stream",
     "text": [
      "Use the multi select box below to select one or more steps you want to examine\n"
     ]
    },
    {
     "data": {
      "application/vnd.jupyter.widget-view+json": {
       "model_id": "5896202cc2f54c55bce0d65f1a1bf72a",
       "version_major": 2,
       "version_minor": 0
      },
      "text/plain": [
       "HBox(children=(SelectMultiple(_dom_classes=('monospace',), index=(3,), layout=Layout(width='600px'), options=(…"
      ]
     },
     "metadata": {},
     "output_type": "display_data"
    },
    {
     "data": {
      "text/plain": [
       "<jupyter_cadquery.replay.Replay at 0x2014b373730>"
      ]
     },
     "execution_count": 92,
     "metadata": {},
     "output_type": "execute_result"
    }
   ],
   "source": [
    "s = Workplane().lineTo(1,0).lineTo(1,1).close().extrude(0.2)\n",
    "\n",
    "show_object(s)"
   ]
  },
  {
   "cell_type": "code",
   "execution_count": 9,
   "id": "3a2ab019-a742-41c6-8210-994d546d8509",
   "metadata": {},
   "outputs": [
    {
     "data": {
      "text/plain": [
       "<cad_viewer_widget.widget.CadViewer at 0x275ca744610>"
      ]
     },
     "execution_count": 9,
     "metadata": {},
     "output_type": "execute_result"
    }
   ],
   "source": [
    "# Define the three points that will define the arc\n",
    "p1 = (0, -392.611)\n",
    "p2 = (127.389, -520.00)\n",
    "p3 = (0, -647.389)\n",
    "\n",
    "# Create the arc by passing the three points to the arc() method\n",
    "arc = cq.Edge.makeThreePointArc(p1, p2, p3).close()\n",
    "\n",
    "arc1 = cq.Workplane(\"XY\").add(arc)\n",
    "\n",
    "show(arc1)"
   ]
  },
  {
   "cell_type": "code",
   "execution_count": null,
   "id": "998525f9-a0d3-4f47-86c1-b790e5f3529e",
   "metadata": {
    "pycharm": {
     "is_executing": true
    }
   },
   "outputs": [],
   "source": [
    "result0 = (cq.Workplane(\"XY\")\n",
    "           .moveTo(10, 0)\n",
    "           .lineTo(5, 0)\n",
    "           .threePointArc((3.9393, 0.4393), (3.5, 1.5))\n",
    "           .threePointArc((3.0607, 2.5607), (2, 3))\n",
    "           .lineTo(1.5, 3)\n",
    "           .threePointArc((0.4393, 3.4393), (0, 4.5))\n",
    "           .lineTo(0, 13.5)\n",
    "           .threePointArc((0.4393, 14.5607), (1.5, 15))\n",
    "           .lineTo(28, 15)\n",
    "           .lineTo(28, 13.5)\n",
    "           .lineTo(24, 13.5)\n",
    "           .lineTo(24, 11.5)\n",
    "           .lineTo(27, 11.5)\n",
    "           .lineTo(27, 10)\n",
    "           .lineTo(22, 10)\n",
    "           .lineTo(22, 13.2)\n",
    "           .lineTo(14.5, 13.2)\n",
    "           .lineTo(14.5, 10)\n",
    "           .lineTo(12.5, 10)\n",
    "           .lineTo(12.5, 13.2)\n",
    "           .lineTo(5.5, 13.2)\n",
    "           .lineTo(5.5, 2)\n",
    "           .threePointArc((5.793, 1.293), (6.5, 1))\n",
    "           .lineTo(10, 1)\n",
    "           .close())\n",
    "\n",
    "show_object(result0)"
   ]
  },
  {
   "cell_type": "code",
   "execution_count": 18,
   "id": "9c9f342f-0f4c-4612-81e9-ff594d92c26f",
   "metadata": {},
   "outputs": [
    {
     "name": "stdout",
     "output_type": "stream",
     "text": [
      "Use the multi select box below to select one or more steps you want to examine\n"
     ]
    },
    {
     "data": {
      "application/vnd.jupyter.widget-view+json": {
       "model_id": "e65a561a9a474712bab92c4e757c4552",
       "version_major": 2,
       "version_minor": 0
      },
      "text/plain": [
       "HBox(children=(SelectMultiple(_dom_classes=('monospace',), index=(6,), layout=Layout(width='600px'), options=(…"
      ]
     },
     "metadata": {},
     "output_type": "display_data"
    },
    {
     "data": {
      "text/plain": [
       "<jupyter_cadquery.replay.Replay at 0x13f6e7b5870>"
      ]
     },
     "execution_count": 18,
     "metadata": {},
     "output_type": "execute_result"
    }
   ],
   "source": [
    "test = (cq.Workplane(\"XY\")\n",
    "        .moveTo(0,0)\n",
    "        .lineTo(0,-300)\n",
    "        .threePointArc((25, -300), (0, -400))\n",
    "        .lineTo(0,-700)\n",
    "        .lineTo(300, -300)\n",
    "        .lineTo(0,0)\n",
    "        .close())\n",
    "\n",
    "show_object(test)"
   ]
  },
  {
   "cell_type": "code",
   "execution_count": null,
   "id": "84a3a563-ee4f-4db0-82f1-bbac6f7e21ca",
   "metadata": {},
   "outputs": [],
   "source": []
  }
 ],
 "metadata": {
  "kernelspec": {
   "display_name": "Python 3 (ipykernel)",
   "language": "python",
   "name": "python3"
  },
  "language_info": {
   "codemirror_mode": {
    "name": "ipython",
    "version": 3
   },
   "file_extension": ".py",
   "mimetype": "text/x-python",
   "name": "python",
   "nbconvert_exporter": "python",
   "pygments_lexer": "ipython3",
   "version": "3.10.8"
  }
 },
 "nbformat": 4,
 "nbformat_minor": 5
}
